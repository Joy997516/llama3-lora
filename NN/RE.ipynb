{
 "cells": [
  {
   "cell_type": "code",
   "execution_count": 9,
   "id": "bf282220",
   "metadata": {},
   "outputs": [],
   "source": [
    "import torch\n",
    "import torch.nn as nn\n",
    "import torch.optim as optim\n",
    "from torch.utils.data import Dataset, DataLoader\n",
    "from sklearn.metrics import f1_score, accuracy_score, precision_score, recall_score"
   ]
  },
  {
   "cell_type": "code",
   "execution_count": 10,
   "id": "c1db2773",
   "metadata": {},
   "outputs": [],
   "source": [
    "# 定义数据集类\n",
    "class CustomDataset(Dataset):\n",
    "    def __init__(self, X, y):\n",
    "        self.X = torch.tensor(X, dtype=torch.long)\n",
    "        self.y = torch.tensor(y, dtype=torch.long)\n",
    "\n",
    "    def __len__(self):\n",
    "        return len(self.X)\n",
    "#返回数据集中的一个样本\n",
    "    def __getitem__(self, idx):\n",
    "        return self.X[idx], self.y[idx]\n"
   ]
  },
  {
   "cell_type": "code",
   "execution_count": 11,
   "id": "bc2dd9a1",
   "metadata": {},
   "outputs": [],
   "source": [
    "# 定义关系抽取模型\n",
    "class RelationExtractionModel(nn.Module):\n",
    "    def __init__(self, vocab_size, embedding_dim, hidden_size, output_size):\n",
    "        super(RelationExtractionModel, self).__init__()\n",
    "        self.embedding = nn.Embedding(vocab_size, embedding_dim)\n",
    "        self.bilstm = nn.LSTM(embedding_dim, hidden_size, batch_first=True, bidirectional=True)\n",
    "        self.attention = nn.Linear(hidden_size * 2, 1)\n",
    "        self.fc = nn.Linear(hidden_size * 2, output_size)\n",
    "\n",
    "    def forward(self, x):\n",
    "        embedded = self.embedding(x)\n",
    "        ##只输出lstm_out\n",
    "        lstm_out, _ = self.bilstm(embedded)\n",
    "        attention_weights = torch.softmax(self.attention(lstm_out).squeeze(-1), dim=1).unsqueeze(-1)\n",
    "        context_vector = torch.sum(attention_weights * lstm_out, dim=1)\n",
    "        output = self.fc(context_vector)\n",
    "        return torch.log_softmax(output, dim=1)"
   ]
  },
  {
   "cell_type": "code",
   "execution_count": 16,
   "id": "98a15745",
   "metadata": {},
   "outputs": [],
   "source": [
    "# 示例新的训练集和测试集数据\n",
    "train_data = [\n",
    "    (\"苹果\", \"手机\", \"属于\", \"苹果手机是苹果公司的产品。\"),\n",
    "    (\"玫瑰\", \"花\", \"是\", \"玫瑰是一种美丽的花。\"),\n",
    "    (\"太阳\", \"星\", \"围绕\", \"太阳是我们的星球。\"),\n",
    "    (\"狗\", \"动物\", \"属于\", \"狗是一种忠诚的动物。\")\n",
    "]\n",
    "\n",
    "test_data = [\n",
    "    (\"手机\", \"设备\", \"是\", \"手机是现代人们常用的通讯工具。\"),\n",
    "    (\"花\", \"植物\", \"属于\", \"花是植物的一部分。\"),\n",
    "    (\"星\", \"天体\", \"是\", \"星是夜空中的光点。\"),\n",
    "    (\"猫\", \"动物\", \"属于\", \"猫是一种常见的宠物动物。\")\n",
    "]\n",
    "\n",
    "# 构建词汇表\n",
    "word_to_index = {\"苹果\": 1, \"手机\": 2, \"属于\": 3, \"玫瑰\": 4, \"花\": 5, \"是\": 6, \"太阳\": 7, \"星\": 8, \"围绕\": 9, \"狗\": 10, \"动物\": 11, \"设备\": 12, \"植物\": 13, \"天体\": 14, \"猫\": 15}\n",
    "relation_to_id = {\"属于\": 0, \"是\": 1, \"围绕\": 2}"
   ]
  },
  {
   "cell_type": "code",
   "execution_count": 17,
   "id": "a99e0410",
   "metadata": {},
   "outputs": [],
   "source": [
    "# 转换文本数据为数字序列，X取句子Y取关系\n",
    "X_train = [[word_to_index.get(word, 0) for word in sentence.split()] for _, _, _, sentence in train_data]\n",
    "y_train = [relation_to_id.get(relation, 0) for _, _, relation, _ in train_data]\n",
    "\n",
    "X_test = [[word_to_index.get(word, 0) for word in sentence.split()] for _, _, _, sentence in test_data]\n",
    "y_test = [relation_to_id.get(relation, 0) for _, _, relation, _ in test_data]\n",
    "\n",
    "# 超参数\n",
    "vocab_size = len(word_to_index) + 1  # 词汇表大小（加1是因为索引从1开始）\n",
    "embedding_dim = 100  # 嵌入维度\n",
    "hidden_size = 64  # LSTM隐藏单元数\n",
    "output_size = len(relation_to_id)  # 输出类别数\n",
    "\n",
    "# 创建数据集和数据加载器\n",
    "train_dataset = CustomDataset(X_train, y_train)\n",
    "test_dataset = CustomDataset(X_test, y_test)\n",
    "train_loader = DataLoader(train_dataset, batch_size=1, shuffle=True)\n",
    "test_loader = DataLoader(test_dataset, batch_size=1, shuffle=False)\n",
    "\n"
   ]
  },
  {
   "cell_type": "code",
   "execution_count": 19,
   "id": "bb87ba00",
   "metadata": {},
   "outputs": [
    {
     "name": "stdout",
     "output_type": "stream",
     "text": [
      "Epoch [1/10], Loss: 1.1566\n",
      "F1 Score: 0.3333, Accuracy: 0.5000, Precision: 0.2500, Recall: 0.5000\n",
      "Epoch [2/10], Loss: 1.0896\n",
      "F1 Score: 0.3333, Accuracy: 0.5000, Precision: 0.2500, Recall: 0.5000\n",
      "Epoch [3/10], Loss: 1.0576\n",
      "F1 Score: 0.3333, Accuracy: 0.5000, Precision: 0.2500, Recall: 0.5000\n",
      "Epoch [4/10], Loss: 1.0709\n",
      "F1 Score: 0.3333, Accuracy: 0.5000, Precision: 0.2500, Recall: 0.5000\n",
      "Epoch [5/10], Loss: 1.0480\n",
      "F1 Score: 0.3333, Accuracy: 0.5000, Precision: 0.2500, Recall: 0.5000\n",
      "Epoch [6/10], Loss: 1.0496\n",
      "F1 Score: 0.3333, Accuracy: 0.5000, Precision: 0.2500, Recall: 0.5000\n",
      "Epoch [7/10], Loss: 1.0510\n",
      "F1 Score: 0.3333, Accuracy: 0.5000, Precision: 0.2500, Recall: 0.5000\n",
      "Epoch [8/10], Loss: 1.0569\n",
      "F1 Score: 0.3333, Accuracy: 0.5000, Precision: 0.2500, Recall: 0.5000\n",
      "Epoch [9/10], Loss: 1.0496\n",
      "F1 Score: 0.3333, Accuracy: 0.5000, Precision: 0.2500, Recall: 0.5000\n"
     ]
    },
    {
     "name": "stderr",
     "output_type": "stream",
     "text": [
      "D:\\Anaconda\\lib\\site-packages\\sklearn\\metrics\\_classification.py:1334: UndefinedMetricWarning: Precision is ill-defined and being set to 0.0 in labels with no predicted samples. Use `zero_division` parameter to control this behavior.\n",
      "  _warn_prf(average, modifier, msg_start, len(result))\n",
      "D:\\Anaconda\\lib\\site-packages\\sklearn\\metrics\\_classification.py:1334: UndefinedMetricWarning: Precision is ill-defined and being set to 0.0 in labels with no predicted samples. Use `zero_division` parameter to control this behavior.\n",
      "  _warn_prf(average, modifier, msg_start, len(result))\n",
      "D:\\Anaconda\\lib\\site-packages\\sklearn\\metrics\\_classification.py:1334: UndefinedMetricWarning: Precision is ill-defined and being set to 0.0 in labels with no predicted samples. Use `zero_division` parameter to control this behavior.\n",
      "  _warn_prf(average, modifier, msg_start, len(result))\n",
      "D:\\Anaconda\\lib\\site-packages\\sklearn\\metrics\\_classification.py:1334: UndefinedMetricWarning: Precision is ill-defined and being set to 0.0 in labels with no predicted samples. Use `zero_division` parameter to control this behavior.\n",
      "  _warn_prf(average, modifier, msg_start, len(result))\n",
      "D:\\Anaconda\\lib\\site-packages\\sklearn\\metrics\\_classification.py:1334: UndefinedMetricWarning: Precision is ill-defined and being set to 0.0 in labels with no predicted samples. Use `zero_division` parameter to control this behavior.\n",
      "  _warn_prf(average, modifier, msg_start, len(result))\n",
      "D:\\Anaconda\\lib\\site-packages\\sklearn\\metrics\\_classification.py:1334: UndefinedMetricWarning: Precision is ill-defined and being set to 0.0 in labels with no predicted samples. Use `zero_division` parameter to control this behavior.\n",
      "  _warn_prf(average, modifier, msg_start, len(result))\n",
      "D:\\Anaconda\\lib\\site-packages\\sklearn\\metrics\\_classification.py:1334: UndefinedMetricWarning: Precision is ill-defined and being set to 0.0 in labels with no predicted samples. Use `zero_division` parameter to control this behavior.\n",
      "  _warn_prf(average, modifier, msg_start, len(result))\n",
      "D:\\Anaconda\\lib\\site-packages\\sklearn\\metrics\\_classification.py:1334: UndefinedMetricWarning: Precision is ill-defined and being set to 0.0 in labels with no predicted samples. Use `zero_division` parameter to control this behavior.\n",
      "  _warn_prf(average, modifier, msg_start, len(result))\n",
      "D:\\Anaconda\\lib\\site-packages\\sklearn\\metrics\\_classification.py:1334: UndefinedMetricWarning: Precision is ill-defined and being set to 0.0 in labels with no predicted samples. Use `zero_division` parameter to control this behavior.\n",
      "  _warn_prf(average, modifier, msg_start, len(result))\n"
     ]
    },
    {
     "name": "stdout",
     "output_type": "stream",
     "text": [
      "Epoch [10/10], Loss: 1.0460\n",
      "F1 Score: 0.3333, Accuracy: 0.5000, Precision: 0.2500, Recall: 0.5000\n"
     ]
    },
    {
     "name": "stderr",
     "output_type": "stream",
     "text": [
      "D:\\Anaconda\\lib\\site-packages\\sklearn\\metrics\\_classification.py:1334: UndefinedMetricWarning: Precision is ill-defined and being set to 0.0 in labels with no predicted samples. Use `zero_division` parameter to control this behavior.\n",
      "  _warn_prf(average, modifier, msg_start, len(result))\n"
     ]
    }
   ],
   "source": [
    "# 初始化模型、损失函数和优化器\n",
    "model = RelationExtractionModel(vocab_size, embedding_dim, hidden_size, output_size)\n",
    "criterion = nn.NLLLoss()\n",
    "optimizer = optim.Adam(model.parameters(), lr=0.001)\n",
    "\n",
    "# 训练模型\n",
    "num_epochs = 10  # 设置为100表示训练100次\n",
    "\n",
    "for epoch in range(num_epochs):\n",
    "    model.train()\n",
    "    total_loss = 0\n",
    "    for batch_X, batch_y in train_loader:\n",
    "        optimizer.zero_grad()\n",
    "        output = model(batch_X)\n",
    "        loss = criterion(output, batch_y)\n",
    "        loss.backward()\n",
    "        optimizer.step()\n",
    "        total_loss += loss.item()\n",
    "    average_loss = total_loss / len(train_loader)\n",
    "    print(f'Epoch [{epoch + 1}/{num_epochs}], Loss: {average_loss:.4f}')\n",
    "    \n",
    "    # 在每个周期结束后进行评估\n",
    "    model.eval()\n",
    "    all_predictions = []\n",
    "    all_targets = []\n",
    "    with torch.no_grad():\n",
    "        for batch_X, batch_y in test_loader:\n",
    "            output = model(batch_X)\n",
    "            _, predicted = torch.max(output, 1)\n",
    "            all_predictions.extend(predicted.tolist())\n",
    "            all_targets.extend(batch_y.tolist())\n",
    "\n",
    "    # 计算评估指标\n",
    "    f1 = f1_score(all_targets, all_predictions, average='weighted')\n",
    "    acc = accuracy_score(all_targets, all_predictions)\n",
    "    precision = precision_score(all_targets, all_predictions, average='weighted')\n",
    "    recall = recall_score(all_targets, all_predictions, average='weighted')\n",
    "    \n",
    "    print(f'F1 Score: {f1:.4f}, Accuracy: {acc:.4f}, Precision: {precision:.4f}, Recall: {recall:.4f}')"
   ]
  },
  {
   "cell_type": "code",
   "execution_count": null,
   "id": "691d9b36",
   "metadata": {},
   "outputs": [],
   "source": []
  }
 ],
 "metadata": {
  "kernelspec": {
   "display_name": "Python 3 (ipykernel)",
   "language": "python",
   "name": "python3"
  },
  "language_info": {
   "codemirror_mode": {
    "name": "ipython",
    "version": 3
   },
   "file_extension": ".py",
   "mimetype": "text/x-python",
   "name": "python",
   "nbconvert_exporter": "python",
   "pygments_lexer": "ipython3",
   "version": "3.9.15"
  }
 },
 "nbformat": 4,
 "nbformat_minor": 5
}
