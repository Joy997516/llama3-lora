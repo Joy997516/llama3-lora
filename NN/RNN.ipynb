{
 "cells": [
  {
   "cell_type": "code",
   "execution_count": 1,
   "id": "74a49648",
   "metadata": {},
   "outputs": [],
   "source": [
    "import torch\n",
    "import torch.nn as nn"
   ]
  },
  {
   "cell_type": "code",
   "execution_count": 3,
   "id": "9d91aa08",
   "metadata": {},
   "outputs": [
    {
     "name": "stdout",
     "output_type": "stream",
     "text": [
      "tensor([[[ 0.3296, -0.5430, -0.2576],\n",
      "         [ 0.7505, -0.6712, -0.6390]]], grad_fn=<TransposeBackward1>)\n"
     ]
    }
   ],
   "source": [
    "#单向单层\n",
    "single_rnn = nn.RNN(4, 3, 1, batch_first=True)\n",
    "input=torch.randn(1,2,4)\n",
    "output, h_n = single_rnn(input)\n",
    "print(output)"
   ]
  },
  {
   "cell_type": "code",
   "execution_count": 7,
   "id": "e12231c4",
   "metadata": {},
   "outputs": [
    {
     "name": "stdout",
     "output_type": "stream",
     "text": [
      "torch.Size([1, 2, 6])\n",
      "torch.Size([2, 1, 3])\n",
      "tensor([[[ 0.1598, -0.6498, -0.7726,  0.4034, -0.2161, -0.2369],\n",
      "         [-0.4590, -0.5766, -0.9310,  0.0950, -0.1516, -0.1073]]],\n",
      "       grad_fn=<TransposeBackward1>)\n"
     ]
    }
   ],
   "source": [
    "##双向单层\n",
    "bi_rnn = nn.RNN(4, 3, 1, batch_first=True,bidirectional=True)\n",
    "output, bi_h_n = bi_rnn(input)\n",
    "print(output.shape)\n",
    "print(bi_h_n.shape)\n",
    "print(output)"
   ]
  },
  {
   "cell_type": "code",
   "execution_count": 12,
   "id": "923af14e",
   "metadata": {},
   "outputs": [
    {
     "name": "stdout",
     "output_type": "stream",
     "text": [
      "tensor([[[-0.2624, -0.0930,  0.5239],\n",
      "         [-0.5348,  0.0868,  0.4009],\n",
      "         [-0.9487, -0.6711, -0.6736]],\n",
      "\n",
      "        [[-0.2104,  0.0113,  0.3902],\n",
      "         [-0.6886, -0.2108,  0.2436],\n",
      "         [-0.9304, -0.5874, -0.7124]]], grad_fn=<TransposeBackward1>)\n",
      "tensor([[[-0.9487, -0.6711, -0.6736],\n",
      "         [-0.9304, -0.5874, -0.7124]]], grad_fn=<StackBackward0>)\n"
     ]
    }
   ],
   "source": [
    "bs, T = 2, 3 #batch_size,Seq_len\n",
    "input_size, hidden_size = 2, 3 ##输入特征向量长度，隐层大小\n",
    "input = torch.randn(bs, T, input_size)\n",
    "h_prev = torch.zeros(bs, hidden_size) ##t0\n",
    "##调用RNN\n",
    "rnn = nn.RNN(input_size, hidden_size, batch_first=True)\n",
    "rnn_output, state_final = rnn(input, h_prev.unsqueeze(0))\n",
    "print(rnn_output)\n",
    "print(state_final)"
   ]
  },
  {
   "cell_type": "code",
   "execution_count": 18,
   "id": "833b11d5",
   "metadata": {},
   "outputs": [
    {
     "name": "stdout",
     "output_type": "stream",
     "text": [
      "weight_ih_l0 Parameter containing:\n",
      "tensor([[0.4624, 0.4869],\n",
      "        [0.3447, 0.2113],\n",
      "        [0.1223, 0.5683]], requires_grad=True)\n",
      "weight_hh_l0 Parameter containing:\n",
      "tensor([[ 0.3348,  0.4235, -0.4712],\n",
      "        [ 0.4829, -0.4085,  0.4250],\n",
      "        [ 0.4649,  0.5510,  0.0752]], requires_grad=True)\n",
      "bias_ih_l0 Parameter containing:\n",
      "tensor([-0.3637, -0.3360,  0.4538], requires_grad=True)\n",
      "bias_hh_l0 Parameter containing:\n",
      "tensor([-0.1998,  0.1260, -0.2486], requires_grad=True)\n"
     ]
    }
   ],
   "source": [
    "def rnn_forward(input, weight_ih, weight_hh, bias_ih, bias_hh, h_prev):\n",
    "    bs, T, input_size = input.shape\n",
    "    h_dim = weight_ih.shape[0]\n",
    "    h_out = torch.zeros(bs, T, h_dim)\n",
    "    \n",
    "    for t in range(T):\n",
    "        x = input[:, t ,:].unsqueeze(2) ##batch_size,t,input_size\n",
    "        w_ih_batch = weight_ih.unsqueeze(0).tile(bs, 1, 1) ##bs*h_dim*is\n",
    "        w_hh_batch = weight_hh.unsqueeze(0).tile(bs, 1, 1) #bs*h_dim*h_dim\n",
    "        w_times_x = torch.bmm(w_ih_batch, x).squeeze(-1) ##bs*h_dim\n",
    "        w_times_h = torch.bmm(w_hh_batch, h_prev.unsqueeze(2)).squeeze(-1)\n",
    "        h_prev = torch.tanh(w_times_x + bias_ih + w_times_h + bias_hh)\n",
    "        h_out [:,t,:] = h_prev\n",
    "    return h_out, h_prev.unsqueeze(0)\n",
    "\n",
    "for k, v in rnn.named_parameters():\n",
    "    print(k, v)"
   ]
  },
  {
   "cell_type": "code",
   "execution_count": 19,
   "id": "f71bfea5",
   "metadata": {},
   "outputs": [
    {
     "data": {
      "text/plain": [
       "(tensor([[[-0.2624, -0.0930,  0.5239],\n",
       "          [-0.5348,  0.0868,  0.4009],\n",
       "          [-0.9487, -0.6711, -0.6736]],\n",
       " \n",
       "         [[-0.2104,  0.0113,  0.3902],\n",
       "          [-0.6886, -0.2108,  0.2436],\n",
       "          [-0.9304, -0.5874, -0.7124]]], grad_fn=<CopySlices>),\n",
       " tensor([[[-0.9487, -0.6711, -0.6736],\n",
       "          [-0.9304, -0.5874, -0.7124]]], grad_fn=<UnsqueezeBackward0>))"
      ]
     },
     "execution_count": 19,
     "metadata": {},
     "output_type": "execute_result"
    }
   ],
   "source": [
    "rnn_forward(input, rnn.weight_ih_l0, rnn.weight_hh_l0, rnn.bias_ih_l0, rnn.bias_hh_l0, h_prev)"
   ]
  },
  {
   "cell_type": "code",
   "execution_count": null,
   "id": "d9315f9c",
   "metadata": {},
   "outputs": [],
   "source": []
  },
  {
   "cell_type": "code",
   "execution_count": null,
   "id": "5f221a1d",
   "metadata": {},
   "outputs": [],
   "source": []
  }
 ],
 "metadata": {
  "kernelspec": {
   "display_name": "Python 3 (ipykernel)",
   "language": "python",
   "name": "python3"
  },
  "language_info": {
   "codemirror_mode": {
    "name": "ipython",
    "version": 3
   },
   "file_extension": ".py",
   "mimetype": "text/x-python",
   "name": "python",
   "nbconvert_exporter": "python",
   "pygments_lexer": "ipython3",
   "version": "3.9.15"
  }
 },
 "nbformat": 4,
 "nbformat_minor": 5
}
